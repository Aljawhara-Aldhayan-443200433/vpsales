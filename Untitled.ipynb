{
 "cells": [
  {
   "cell_type": "markdown",
   "id": "0164dae7",
   "metadata": {},
   "source": [
    "<h1>Goal:</h1>\n",
    "Our goal  from studying this dataset is to utilize classification and clustering techniques on the input data to make predictions about the popularity of upcoming games.\n",
    "\n"
   ]
  },
  {
   "cell_type": "markdown",
   "id": "c5d73f1f",
   "metadata": {},
   "source": [
    "<h1>Dataset link:</h1>\n",
    "<p><a href=\"https://www.kaggle.com/datasets/thedevastator/global-video-game-sales\">global video game sales</a></p>"
   ]
  },
  {
   "cell_type": "code",
   "execution_count": null,
   "id": "b8dc5e20",
   "metadata": {},
   "outputs": [],
   "source": [
    "Dataset<-read.csv(\"C:/Users/jeje/Desktop/vgsales.csv\")\n",
    "options(max.print=9999999)\n",
    "str(Dataset)\n",
    "print(Dataset)\n",
    "\n"
   ]
  },
  {
   "cell_type": "code",
   "execution_count": 55,
   "id": "0947fb32",
   "metadata": {},
   "outputs": [],
   "source": []
  },
  {
   "cell_type": "code",
   "execution_count": null,
   "id": "4e29c79a",
   "metadata": {
    "scrolled": true
   },
   "outputs": [],
   "source": []
  },
  {
   "cell_type": "code",
   "execution_count": 58,
   "id": "cb45e10f",
   "metadata": {},
   "outputs": [
    {
     "name": "stderr",
     "output_type": "stream",
     "text": [
      "IOPub data rate exceeded.\n",
      "The notebook server will temporarily stop sending output\n",
      "to the client in order to avoid crashing it.\n",
      "To change this limit, set the config variable\n",
      "`--NotebookApp.iopub_data_rate_limit`.\n",
      "\n",
      "Current values:\n",
      "NotebookApp.iopub_data_rate_limit=1000000.0 (bytes/sec)\n",
      "NotebookApp.rate_limit_window=3.0 (secs)\n",
      "\n"
     ]
    }
   ],
   "source": []
  },
  {
   "cell_type": "code",
   "execution_count": null,
   "id": "50b6c030",
   "metadata": {},
   "outputs": [],
   "source": []
  }
 ],
 "metadata": {
  "kernelspec": {
   "display_name": "R",
   "language": "R",
   "name": "ir"
  },
  "language_info": {
   "codemirror_mode": "r",
   "file_extension": ".r",
   "mimetype": "text/x-r-source",
   "name": "R",
   "pygments_lexer": "r",
   "version": "3.6.1"
  }
 },
 "nbformat": 4,
 "nbformat_minor": 5
}
